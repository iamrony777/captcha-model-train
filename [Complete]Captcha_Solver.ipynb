{
  "cells": [
    {
      "cell_type": "code",
      "execution_count": null,
      "metadata": {
        "id": "I3Hw4NpVdAt6"
      },
      "outputs": [],
      "source": [
        "!rm -rf *\n",
        "!git clone https://github.com/iamrony777/captcha-model-train.git\n",
        "!mv captcha-model-train/* .\n",
        "!rm -rf captcha-model-train"
      ]
    },
    {
      "cell_type": "code",
      "execution_count": null,
      "metadata": {
        "id": "utAP7WBgeYR2"
      },
      "outputs": [],
      "source": [
        "#Generate TFRecords\n",
        "!pip install tensorflow-gpu tensorflow-object-detection"
      ]
    },
    {
      "cell_type": "code",
      "source": [
        "!python3 xml_to_csv.py"
      ],
      "metadata": {
        "id": "idlpxCYm1ENA"
      },
      "execution_count": null,
      "outputs": []
    },
    {
      "cell_type": "code",
      "source": [
        "!python3 generate_tfrecord.py --csv_input='CAPTCHA_images/train_labels.csv' --image_dir='CAPTCHA_images/train' --output_path='CAPTCHA_images/train.record' && \\\n",
        "python3 generate_tfrecord.py --csv_input='CAPTCHA_images/test_labels.csv' --image_dir='CAPTCHA_images/test' --output_path='CAPTCHA_images/test.record'"
      ],
      "metadata": {
        "id": "BhJVoCwJ1No6"
      },
      "execution_count": null,
      "outputs": []
    },
    {
      "cell_type": "code",
      "source": [
        "# Training with GPU\n",
        "!pip install tensorflow-gpu==1.14 tensorflow-object-detection numpy==1.19.5"
      ],
      "metadata": {
        "id": "K5THjNsm85Q3"
      },
      "execution_count": null,
      "outputs": []
    },
    {
      "cell_type": "code",
      "execution_count": null,
      "metadata": {
        "id": "_WtsNhv9dYH8"
      },
      "outputs": [],
      "source": [
        "!python3 train.py --logtostderr --train_dir=CAPTCHA_training_dir/ --pipeline_config_path=faster_rcnn_inception_v2_coco.config"
      ]
    },
    {
      "cell_type": "code",
      "source": [
        "!python3 export_inference_graph.py \\\n",
        "    --input_type image_tensor \\\n",
        "    --pipeline_config_path faster_rcnn_inception_v2_coco.config \\\n",
        "    --trained_checkpoint_prefix '/content/CAPTCHA_training_dir/model.ckpt-29304' \\\n",
        "    --output_directory CAPTCHA_model"
      ],
      "metadata": {
        "id": "GVg45-alN_4X"
      },
      "execution_count": null,
      "outputs": []
    },
    {
      "cell_type": "code",
      "source": [
        "#Obeject_detection.py\n",
        "\n",
        "# Imports\n",
        "import cv2\n",
        "import numpy as np\n",
        "import os\n",
        "import sys\n",
        "# run on CPU, to run on GPU comment this line or write '0'\n",
        "# os.environ['CUDA_VISIBLE_DEVICES'] = '-1'\n",
        "import tensorflow as tf\n",
        "from distutils.version import StrictVersion\n",
        "from collections import defaultdict\n",
        "\n",
        "# title of our window\n",
        "title = \"CAPTCHA\"\n",
        "\n",
        "# Env setup\n",
        "from object_detection.utils import ops as utils_ops\n",
        "from object_detection.utils import label_map_util\n",
        "from object_detection.utils import visualization_utils as vis_util\n",
        "\n",
        "\n",
        "# Model preparation \n",
        "PATH_TO_FROZEN_GRAPH = '/content/CAPTCHA_inference_graph/frozen_inference_graph.pb'\n",
        "# List of the strings that is used to add correct label for each box.\n",
        "PATH_TO_LABELS = '/content/CAPTCHA_training/labelmap.pbtxt'\n",
        "NUM_CLASSES = 37\n",
        "\n",
        "\n",
        "# Load a (frozen) Tensorflow model into memory.\n",
        "label_map = label_map_util.load_labelmap(PATH_TO_LABELS)\n",
        "categories = label_map_util.convert_label_map_to_categories(label_map, max_num_classes=NUM_CLASSES, use_display_name=True)\n",
        "category_index = label_map_util.create_category_index(categories)\n",
        "\n",
        "detection_graph = tf.Graph()\n",
        "with detection_graph.as_default():\n",
        "    od_graph_def = tf.GraphDef()\n",
        "    with tf.gfile.GFile(PATH_TO_FROZEN_GRAPH, 'rb') as fid:\n",
        "        serialized_graph = fid.read()\n",
        "        od_graph_def.ParseFromString(serialized_graph)\n",
        "        tf.import_graph_def(od_graph_def, name='')\n",
        "\n",
        "\n",
        "# Detection\n",
        "def Captcha_detection(image, average_distance_error=3):\n",
        "    with detection_graph.as_default():\n",
        "        with tf.Session(graph=detection_graph) as sess:\n",
        "            # Open image\n",
        "            image_np = cv2.imread(image)\n",
        "            # Resize image if needed\n",
        "            # image_np = cv2.resize(image_np, (0,0), fx=3, fy=3) \n",
        "            # To get real color we do this:\n",
        "            image_np = cv2.cvtColor(image_np, cv2.COLOR_BGR2RGB)\n",
        "            # Expand dimensions since the model expects images to have shape: [1, None, None, 3]\n",
        "            image_np_expanded = np.expand_dims(image_np, axis=0)\n",
        "            # Actual detection.\n",
        "            image_tensor = detection_graph.get_tensor_by_name('image_tensor:0')\n",
        "            boxes = detection_graph.get_tensor_by_name('detection_boxes:0')\n",
        "            scores = detection_graph.get_tensor_by_name('detection_scores:0')\n",
        "            classes = detection_graph.get_tensor_by_name('detection_classes:0')\n",
        "            num_detections = detection_graph.get_tensor_by_name('num_detections:0')\n",
        "            # Visualization of the results of a detection.\n",
        "            (boxes, scores, classes, num_detections) = sess.run(\n",
        "              [boxes, scores, classes, num_detections],\n",
        "              feed_dict={image_tensor: image_np_expanded})\n",
        "            vis_util.visualize_boxes_and_labels_on_image_array(\n",
        "              image_np,\n",
        "              np.squeeze(boxes),\n",
        "              np.squeeze(classes).astype(np.int32),\n",
        "              np.squeeze(scores),\n",
        "              category_index,\n",
        "              use_normalized_coordinates=True,\n",
        "              line_thickness=2)\n",
        "            # Show image with detection\n",
        "            #cv2.imshow(title, cv2.cvtColor(image_np, cv2.COLOR_BGR2RGB))\n",
        "            # Save image with detection\n",
        "            cv2.imwrite(\"Predicted_captcha.jpg\", cv2.cvtColor(image_np, cv2.COLOR_BGR2RGB))\n",
        "\n",
        "\n",
        "            # Bellow we do filtering stuff\n",
        "            captcha_array = []\n",
        "            # loop our all detection boxes\n",
        "            for i,b in enumerate(boxes[0]):\n",
        "                for Symbol in range(37):\n",
        "                    if classes[0][i] == Symbol: # check if detected class equal to our symbols\n",
        "                        if scores[0][i] >= 0.65: # do something only if detected score more han 0.65\n",
        "                                            # x-left        # x-right\n",
        "                            mid_x = (boxes[0][i][1]+boxes[0][i][3])/2 # find x coordinates center of letter\n",
        "                            # to captcha_array array save detected Symbol, middle X coordinates and detection percentage\n",
        "                            captcha_array.append([category_index[Symbol].get('name'), mid_x, scores[0][i]])\n",
        "\n",
        "            # rearange array acording to X coordinates datected\n",
        "            for number in range(20):\n",
        "                for captcha_number in range(len(captcha_array)-1):\n",
        "                    if captcha_array[captcha_number][1] > captcha_array[captcha_number+1][1]:\n",
        "                        temporary_captcha = captcha_array[captcha_number]\n",
        "                        captcha_array[captcha_number] = captcha_array[captcha_number+1]\n",
        "                        captcha_array[captcha_number+1] = temporary_captcha\n",
        "\n",
        "\n",
        "            # Find average distance between detected symbols\n",
        "            average = 0\n",
        "            captcha_len = len(captcha_array)-1\n",
        "            while captcha_len > 0:\n",
        "                average += captcha_array[captcha_len][1]- captcha_array[captcha_len-1][1]\n",
        "                captcha_len -= 1\n",
        "            # Increase average distance error\n",
        "            average = average/(len(captcha_array)+average_distance_error)\n",
        "\n",
        "            \n",
        "            captcha_array_filtered = list(captcha_array)\n",
        "            captcha_len = len(captcha_array)-1\n",
        "            while captcha_len > 0:\n",
        "                # if average distance is larger than error distance\n",
        "                if captcha_array[captcha_len][1]- captcha_array[captcha_len-1][1] < average:\n",
        "                    # check which symbol has higher detection percentage\n",
        "                    if captcha_array[captcha_len][2] > captcha_array[captcha_len-1][2]:\n",
        "                        del captcha_array_filtered[captcha_len-1]\n",
        "                    else:\n",
        "                        del captcha_array_filtered[captcha_len]\n",
        "                captcha_len -= 1\n",
        "\n",
        "            # Get final string from filtered CAPTCHA array\n",
        "            captcha_string = \"\"\n",
        "            for captcha_letter in range(len(captcha_array_filtered)):\n",
        "                captcha_string += captcha_array_filtered[captcha_letter][0]\n",
        "                \n",
        "            return captcha_string\n",
        "\n",
        "print(Captcha_detection(\"/content/CAPTCHA_images/train/fcwbj.png\"))"
      ],
      "metadata": {
        "colab": {
          "base_uri": "https://localhost:8080/"
        },
        "id": "moLFUq-TgAQz",
        "outputId": "dddb2292-1772-40f9-acb0-f9b47a1b72ee"
      },
      "execution_count": null,
      "outputs": [
        {
          "output_type": "stream",
          "name": "stdout",
          "text": [
            "fcwbj\n"
          ]
        }
      ]
    },
    {
      "cell_type": "code",
      "source": [
        "!cp /content/CAPTCHA_inference_graph/frozen_inference_graph.pb /content/drive/MyDrive"
      ],
      "metadata": {
        "id": "OPJnoBdLj5WG"
      },
      "execution_count": null,
      "outputs": []
    },
    {
      "cell_type": "code",
      "source": [
        "import tensorflow as tf   # TensorFlow registers PluggableDevices here.\n",
        "print(tf.config.experimental_list_devices())\n",
        "print(tf.__version__)"
      ],
      "metadata": {
        "colab": {
          "base_uri": "https://localhost:8080/"
        },
        "id": "uLwB-I2CB6DA",
        "outputId": "ce12af3c-3ba9-4906-868b-a94e763fb828"
      },
      "execution_count": null,
      "outputs": [
        {
          "output_type": "stream",
          "name": "stdout",
          "text": [
            "[PhysicalDevice(name='/physical_device:CPU:0', device_type='CPU'), PhysicalDevice(name='/physical_device:GPU:0', device_type='GPU')]\n",
            "2.8.0\n"
          ]
        }
      ]
    }
  ],
  "metadata": {
    "colab": {
      "name": "[Complete]Captcha Solver",
      "provenance": [],
      "collapsed_sections": []
    },
    "kernelspec": {
      "display_name": "Python 3",
      "name": "python3"
    },
    "language_info": {
      "name": "python"
    },
    "accelerator": "GPU"
  },
  "nbformat": 4,
  "nbformat_minor": 0
}
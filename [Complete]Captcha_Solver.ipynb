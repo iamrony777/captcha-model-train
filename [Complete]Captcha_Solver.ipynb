{
  "cells": [
    {
      "cell_type": "code",
      "execution_count": 26,
      "metadata": {},
      "outputs": [
        {
          "name": "stdout",
          "output_type": "stream",
          "text": [
            "This notebook was tested using python 3.7.16\n",
            "Current Python version is 3.7\n"
          ]
        }
      ],
      "source": [
        "# Python version\n",
        "import re\n",
        "python_version = !python --version\n",
        "python_version = re.search(pattern=r'3\\.\\d', string=python_version[0])\n",
        "print('This notebook was tested using python 3.7.16')\n",
        "if not python_version:\n",
        "    print('Python version is not 3.x')\n",
        "else:\n",
        "    print(f'Current Python version is {python_version.group()}')\n"
      ]
    },
    {
      "cell_type": "code",
      "execution_count": 4,
      "metadata": {
        "id": "utAP7WBgeYR2"
      },
      "outputs": [
        {
          "name": "stdout",
          "output_type": "stream",
          "text": [
            "Requirement already satisfied: tensorflow-cpu==1.15.0 in ./.venv/lib/python3.7/site-packages (1.15.0)\n",
            "Requirement already satisfied: tensorflow-object-detection==0.0.6 in ./.venv/lib/python3.7/site-packages (0.0.6)\n",
            "Requirement already satisfied: wheel>=0.26 in ./.venv/lib/python3.7/site-packages (from tensorflow-cpu==1.15.0) (0.40.0)\n",
            "Requirement already satisfied: keras-preprocessing>=1.0.5 in ./.venv/lib/python3.7/site-packages (from tensorflow-cpu==1.15.0) (1.1.2)\n",
            "Requirement already satisfied: grpcio>=1.8.6 in ./.venv/lib/python3.7/site-packages (from tensorflow-cpu==1.15.0) (1.54.0)\n",
            "Requirement already satisfied: keras-applications>=1.0.8 in ./.venv/lib/python3.7/site-packages (from tensorflow-cpu==1.15.0) (1.0.8)\n",
            "Requirement already satisfied: tensorflow-estimator==1.15.1 in ./.venv/lib/python3.7/site-packages (from tensorflow-cpu==1.15.0) (1.15.1)\n",
            "Requirement already satisfied: tensorboard<1.16.0,>=1.15.0 in ./.venv/lib/python3.7/site-packages (from tensorflow-cpu==1.15.0) (1.15.0)\n",
            "Requirement already satisfied: protobuf>=3.6.1 in ./.venv/lib/python3.7/site-packages (from tensorflow-cpu==1.15.0) (4.23.0)\n",
            "Requirement already satisfied: google-pasta>=0.1.6 in ./.venv/lib/python3.7/site-packages (from tensorflow-cpu==1.15.0) (0.2.0)\n",
            "Requirement already satisfied: opt-einsum>=2.3.2 in ./.venv/lib/python3.7/site-packages (from tensorflow-cpu==1.15.0) (3.3.0)\n",
            "Requirement already satisfied: astor>=0.6.0 in ./.venv/lib/python3.7/site-packages (from tensorflow-cpu==1.15.0) (0.8.1)\n",
            "Requirement already satisfied: numpy<2.0,>=1.16.0 in ./.venv/lib/python3.7/site-packages (from tensorflow-cpu==1.15.0) (1.21.6)\n",
            "Requirement already satisfied: termcolor>=1.1.0 in ./.venv/lib/python3.7/site-packages (from tensorflow-cpu==1.15.0) (2.3.0)\n",
            "Requirement already satisfied: gast==0.2.2 in ./.venv/lib/python3.7/site-packages (from tensorflow-cpu==1.15.0) (0.2.2)\n",
            "Requirement already satisfied: absl-py>=0.7.0 in ./.venv/lib/python3.7/site-packages (from tensorflow-cpu==1.15.0) (1.4.0)\n",
            "Requirement already satisfied: six>=1.10.0 in ./.venv/lib/python3.7/site-packages (from tensorflow-cpu==1.15.0) (1.16.0)\n",
            "Requirement already satisfied: wrapt>=1.11.1 in ./.venv/lib/python3.7/site-packages (from tensorflow-cpu==1.15.0) (1.15.0)\n",
            "Requirement already satisfied: cython in ./.venv/lib/python3.7/site-packages (from tensorflow-object-detection==0.0.6) (0.29.34)\n",
            "Requirement already satisfied: pycocotools-fix in ./.venv/lib/python3.7/site-packages (from tensorflow-object-detection==0.0.6) (2.0.0.9)\n",
            "Requirement already satisfied: jupyter in ./.venv/lib/python3.7/site-packages (from tensorflow-object-detection==0.0.6) (1.0.0)\n",
            "Requirement already satisfied: setuptools>=41.0.0 in ./.venv/lib/python3.7/site-packages (from tensorflow-object-detection==0.0.6) (47.1.0)\n",
            "Requirement already satisfied: pillow in ./.venv/lib/python3.7/site-packages (from tensorflow-object-detection==0.0.6) (9.5.0)\n",
            "Requirement already satisfied: contextlib2 in ./.venv/lib/python3.7/site-packages (from tensorflow-object-detection==0.0.6) (21.6.0)\n",
            "Requirement already satisfied: lxml in ./.venv/lib/python3.7/site-packages (from tensorflow-object-detection==0.0.6) (4.9.2)\n",
            "Requirement already satisfied: matplotlib in ./.venv/lib/python3.7/site-packages (from tensorflow-object-detection==0.0.6) (3.5.3)\n",
            "Requirement already satisfied: h5py in ./.venv/lib/python3.7/site-packages (from keras-applications>=1.0.8->tensorflow-cpu==1.15.0) (3.8.0)\n",
            "Requirement already satisfied: markdown>=2.6.8 in ./.venv/lib/python3.7/site-packages (from tensorboard<1.16.0,>=1.15.0->tensorflow-cpu==1.15.0) (3.4.3)\n",
            "Requirement already satisfied: werkzeug>=0.11.15 in ./.venv/lib/python3.7/site-packages (from tensorboard<1.16.0,>=1.15.0->tensorflow-cpu==1.15.0) (2.2.3)\n",
            "Requirement already satisfied: nbconvert in ./.venv/lib/python3.7/site-packages (from jupyter->tensorflow-object-detection==0.0.6) (7.4.0)\n",
            "Requirement already satisfied: ipywidgets in ./.venv/lib/python3.7/site-packages (from jupyter->tensorflow-object-detection==0.0.6) (8.0.6)\n",
            "Requirement already satisfied: qtconsole in ./.venv/lib/python3.7/site-packages (from jupyter->tensorflow-object-detection==0.0.6) (5.4.3)\n",
            "Requirement already satisfied: ipykernel in ./.venv/lib/python3.7/site-packages (from jupyter->tensorflow-object-detection==0.0.6) (6.16.2)\n",
            "Requirement already satisfied: jupyter-console in ./.venv/lib/python3.7/site-packages (from jupyter->tensorflow-object-detection==0.0.6) (6.6.3)\n",
            "Requirement already satisfied: notebook in ./.venv/lib/python3.7/site-packages (from jupyter->tensorflow-object-detection==0.0.6) (6.5.4)\n",
            "Requirement already satisfied: kiwisolver>=1.0.1 in ./.venv/lib/python3.7/site-packages (from matplotlib->tensorflow-object-detection==0.0.6) (1.4.4)\n",
            "Requirement already satisfied: fonttools>=4.22.0 in ./.venv/lib/python3.7/site-packages (from matplotlib->tensorflow-object-detection==0.0.6) (4.38.0)\n",
            "Requirement already satisfied: python-dateutil>=2.7 in ./.venv/lib/python3.7/site-packages (from matplotlib->tensorflow-object-detection==0.0.6) (2.8.2)\n",
            "Requirement already satisfied: packaging>=20.0 in ./.venv/lib/python3.7/site-packages (from matplotlib->tensorflow-object-detection==0.0.6) (23.1)\n",
            "Requirement already satisfied: pyparsing>=2.2.1 in ./.venv/lib/python3.7/site-packages (from matplotlib->tensorflow-object-detection==0.0.6) (3.0.9)\n",
            "Requirement already satisfied: cycler>=0.10 in ./.venv/lib/python3.7/site-packages (from matplotlib->tensorflow-object-detection==0.0.6) (0.11.0)\n",
            "Requirement already satisfied: typing-extensions in ./.venv/lib/python3.7/site-packages (from kiwisolver>=1.0.1->matplotlib->tensorflow-object-detection==0.0.6) (4.5.0)\n",
            "Requirement already satisfied: importlib-metadata>=4.4 in ./.venv/lib/python3.7/site-packages (from markdown>=2.6.8->tensorboard<1.16.0,>=1.15.0->tensorflow-cpu==1.15.0) (6.6.0)\n",
            "Requirement already satisfied: MarkupSafe>=2.1.1 in ./.venv/lib/python3.7/site-packages (from werkzeug>=0.11.15->tensorboard<1.16.0,>=1.15.0->tensorflow-cpu==1.15.0) (2.1.2)\n",
            "Requirement already satisfied: pyzmq>=17 in ./.venv/lib/python3.7/site-packages (from ipykernel->jupyter->tensorflow-object-detection==0.0.6) (25.0.2)\n",
            "Requirement already satisfied: traitlets>=5.1.0 in ./.venv/lib/python3.7/site-packages (from ipykernel->jupyter->tensorflow-object-detection==0.0.6) (5.9.0)\n",
            "Requirement already satisfied: psutil in ./.venv/lib/python3.7/site-packages (from ipykernel->jupyter->tensorflow-object-detection==0.0.6) (5.9.5)\n",
            "Requirement already satisfied: jupyter-client>=6.1.12 in ./.venv/lib/python3.7/site-packages (from ipykernel->jupyter->tensorflow-object-detection==0.0.6) (7.4.9)\n",
            "Requirement already satisfied: nest-asyncio in ./.venv/lib/python3.7/site-packages (from ipykernel->jupyter->tensorflow-object-detection==0.0.6) (1.5.6)\n",
            "Requirement already satisfied: matplotlib-inline>=0.1 in ./.venv/lib/python3.7/site-packages (from ipykernel->jupyter->tensorflow-object-detection==0.0.6) (0.1.6)\n",
            "Requirement already satisfied: tornado>=6.1 in ./.venv/lib/python3.7/site-packages (from ipykernel->jupyter->tensorflow-object-detection==0.0.6) (6.2)\n",
            "Requirement already satisfied: ipython>=7.23.1 in ./.venv/lib/python3.7/site-packages (from ipykernel->jupyter->tensorflow-object-detection==0.0.6) (7.34.0)\n",
            "Requirement already satisfied: debugpy>=1.0 in ./.venv/lib/python3.7/site-packages (from ipykernel->jupyter->tensorflow-object-detection==0.0.6) (1.6.7)\n",
            "Requirement already satisfied: jupyterlab-widgets~=3.0.7 in ./.venv/lib/python3.7/site-packages (from ipywidgets->jupyter->tensorflow-object-detection==0.0.6) (3.0.7)\n",
            "Requirement already satisfied: widgetsnbextension~=4.0.7 in ./.venv/lib/python3.7/site-packages (from ipywidgets->jupyter->tensorflow-object-detection==0.0.6) (4.0.7)\n",
            "Requirement already satisfied: prompt-toolkit>=3.0.30 in ./.venv/lib/python3.7/site-packages (from jupyter-console->jupyter->tensorflow-object-detection==0.0.6) (3.0.38)\n",
            "Requirement already satisfied: jupyter-core!=5.0.*,>=4.12 in ./.venv/lib/python3.7/site-packages (from jupyter-console->jupyter->tensorflow-object-detection==0.0.6) (4.12.0)\n",
            "Requirement already satisfied: pygments in ./.venv/lib/python3.7/site-packages (from jupyter-console->jupyter->tensorflow-object-detection==0.0.6) (2.15.1)\n",
            "Requirement already satisfied: nbformat>=5.1 in ./.venv/lib/python3.7/site-packages (from nbconvert->jupyter->tensorflow-object-detection==0.0.6) (5.8.0)\n",
            "Requirement already satisfied: tinycss2 in ./.venv/lib/python3.7/site-packages (from nbconvert->jupyter->tensorflow-object-detection==0.0.6) (1.2.1)\n",
            "Requirement already satisfied: pandocfilters>=1.4.1 in ./.venv/lib/python3.7/site-packages (from nbconvert->jupyter->tensorflow-object-detection==0.0.6) (1.5.0)\n",
            "Requirement already satisfied: mistune<3,>=2.0.3 in ./.venv/lib/python3.7/site-packages (from nbconvert->jupyter->tensorflow-object-detection==0.0.6) (2.0.5)\n",
            "Requirement already satisfied: nbclient>=0.5.0 in ./.venv/lib/python3.7/site-packages (from nbconvert->jupyter->tensorflow-object-detection==0.0.6) (0.7.4)\n",
            "Requirement already satisfied: beautifulsoup4 in ./.venv/lib/python3.7/site-packages (from nbconvert->jupyter->tensorflow-object-detection==0.0.6) (4.12.2)\n",
            "Requirement already satisfied: jupyterlab-pygments in ./.venv/lib/python3.7/site-packages (from nbconvert->jupyter->tensorflow-object-detection==0.0.6) (0.2.2)\n",
            "Requirement already satisfied: bleach in ./.venv/lib/python3.7/site-packages (from nbconvert->jupyter->tensorflow-object-detection==0.0.6) (6.0.0)\n",
            "Requirement already satisfied: defusedxml in ./.venv/lib/python3.7/site-packages (from nbconvert->jupyter->tensorflow-object-detection==0.0.6) (0.7.1)\n",
            "Requirement already satisfied: jinja2>=3.0 in ./.venv/lib/python3.7/site-packages (from nbconvert->jupyter->tensorflow-object-detection==0.0.6) (3.1.2)\n",
            "Requirement already satisfied: argon2-cffi in ./.venv/lib/python3.7/site-packages (from notebook->jupyter->tensorflow-object-detection==0.0.6) (21.3.0)\n",
            "Requirement already satisfied: nbclassic>=0.4.7 in ./.venv/lib/python3.7/site-packages (from notebook->jupyter->tensorflow-object-detection==0.0.6) (1.0.0)\n",
            "Requirement already satisfied: terminado>=0.8.3 in ./.venv/lib/python3.7/site-packages (from notebook->jupyter->tensorflow-object-detection==0.0.6) (0.17.1)\n",
            "Requirement already satisfied: ipython-genutils in ./.venv/lib/python3.7/site-packages (from notebook->jupyter->tensorflow-object-detection==0.0.6) (0.2.0)\n",
            "Requirement already satisfied: Send2Trash>=1.8.0 in ./.venv/lib/python3.7/site-packages (from notebook->jupyter->tensorflow-object-detection==0.0.6) (1.8.2)\n",
            "Requirement already satisfied: prometheus-client in ./.venv/lib/python3.7/site-packages (from notebook->jupyter->tensorflow-object-detection==0.0.6) (0.16.0)\n",
            "Requirement already satisfied: qtpy>=2.0.1 in ./.venv/lib/python3.7/site-packages (from qtconsole->jupyter->tensorflow-object-detection==0.0.6) (2.3.1)\n",
            "Requirement already satisfied: zipp>=0.5 in ./.venv/lib/python3.7/site-packages (from importlib-metadata>=4.4->markdown>=2.6.8->tensorboard<1.16.0,>=1.15.0->tensorflow-cpu==1.15.0) (3.15.0)\n",
            "Requirement already satisfied: pexpect>4.3 in ./.venv/lib/python3.7/site-packages (from ipython>=7.23.1->ipykernel->jupyter->tensorflow-object-detection==0.0.6) (4.8.0)\n",
            "Requirement already satisfied: pickleshare in ./.venv/lib/python3.7/site-packages (from ipython>=7.23.1->ipykernel->jupyter->tensorflow-object-detection==0.0.6) (0.7.5)\n",
            "Requirement already satisfied: decorator in ./.venv/lib/python3.7/site-packages (from ipython>=7.23.1->ipykernel->jupyter->tensorflow-object-detection==0.0.6) (5.1.1)\n",
            "Requirement already satisfied: backcall in ./.venv/lib/python3.7/site-packages (from ipython>=7.23.1->ipykernel->jupyter->tensorflow-object-detection==0.0.6) (0.2.0)\n",
            "Requirement already satisfied: jedi>=0.16 in ./.venv/lib/python3.7/site-packages (from ipython>=7.23.1->ipykernel->jupyter->tensorflow-object-detection==0.0.6) (0.18.2)\n",
            "Requirement already satisfied: entrypoints in ./.venv/lib/python3.7/site-packages (from jupyter-client>=6.1.12->ipykernel->jupyter->tensorflow-object-detection==0.0.6) (0.4)\n",
            "Requirement already satisfied: jupyter-server>=1.8 in ./.venv/lib/python3.7/site-packages (from nbclassic>=0.4.7->notebook->jupyter->tensorflow-object-detection==0.0.6) (1.24.0)\n",
            "Requirement already satisfied: notebook-shim>=0.2.3 in ./.venv/lib/python3.7/site-packages (from nbclassic>=0.4.7->notebook->jupyter->tensorflow-object-detection==0.0.6) (0.2.3)\n",
            "Requirement already satisfied: jsonschema>=2.6 in ./.venv/lib/python3.7/site-packages (from nbformat>=5.1->nbconvert->jupyter->tensorflow-object-detection==0.0.6) (4.17.3)\n",
            "Requirement already satisfied: fastjsonschema in ./.venv/lib/python3.7/site-packages (from nbformat>=5.1->nbconvert->jupyter->tensorflow-object-detection==0.0.6) (2.16.3)\n",
            "Requirement already satisfied: wcwidth in ./.venv/lib/python3.7/site-packages (from prompt-toolkit>=3.0.30->jupyter-console->jupyter->tensorflow-object-detection==0.0.6) (0.2.6)\n",
            "Requirement already satisfied: ptyprocess in ./.venv/lib/python3.7/site-packages (from terminado>=0.8.3->notebook->jupyter->tensorflow-object-detection==0.0.6) (0.7.0)\n",
            "Requirement already satisfied: argon2-cffi-bindings in ./.venv/lib/python3.7/site-packages (from argon2-cffi->notebook->jupyter->tensorflow-object-detection==0.0.6) (21.2.0)\n",
            "Requirement already satisfied: soupsieve>1.2 in ./.venv/lib/python3.7/site-packages (from beautifulsoup4->nbconvert->jupyter->tensorflow-object-detection==0.0.6) (2.4.1)\n",
            "Requirement already satisfied: webencodings in ./.venv/lib/python3.7/site-packages (from bleach->nbconvert->jupyter->tensorflow-object-detection==0.0.6) (0.5.1)\n",
            "Requirement already satisfied: parso<0.9.0,>=0.8.0 in ./.venv/lib/python3.7/site-packages (from jedi>=0.16->ipython>=7.23.1->ipykernel->jupyter->tensorflow-object-detection==0.0.6) (0.8.3)\n",
            "Requirement already satisfied: attrs>=17.4.0 in ./.venv/lib/python3.7/site-packages (from jsonschema>=2.6->nbformat>=5.1->nbconvert->jupyter->tensorflow-object-detection==0.0.6) (23.1.0)\n",
            "Requirement already satisfied: pyrsistent!=0.17.0,!=0.17.1,!=0.17.2,>=0.14.0 in ./.venv/lib/python3.7/site-packages (from jsonschema>=2.6->nbformat>=5.1->nbconvert->jupyter->tensorflow-object-detection==0.0.6) (0.19.3)\n",
            "Requirement already satisfied: pkgutil-resolve-name>=1.3.10 in ./.venv/lib/python3.7/site-packages (from jsonschema>=2.6->nbformat>=5.1->nbconvert->jupyter->tensorflow-object-detection==0.0.6) (1.3.10)\n",
            "Requirement already satisfied: importlib-resources>=1.4.0 in ./.venv/lib/python3.7/site-packages (from jsonschema>=2.6->nbformat>=5.1->nbconvert->jupyter->tensorflow-object-detection==0.0.6) (5.12.0)\n",
            "Requirement already satisfied: websocket-client in ./.venv/lib/python3.7/site-packages (from jupyter-server>=1.8->nbclassic>=0.4.7->notebook->jupyter->tensorflow-object-detection==0.0.6) (1.5.1)\n",
            "Requirement already satisfied: anyio<4,>=3.1.0 in ./.venv/lib/python3.7/site-packages (from jupyter-server>=1.8->nbclassic>=0.4.7->notebook->jupyter->tensorflow-object-detection==0.0.6) (3.6.2)\n",
            "Requirement already satisfied: cffi>=1.0.1 in ./.venv/lib/python3.7/site-packages (from argon2-cffi-bindings->argon2-cffi->notebook->jupyter->tensorflow-object-detection==0.0.6) (1.15.1)\n",
            "Requirement already satisfied: idna>=2.8 in ./.venv/lib/python3.7/site-packages (from anyio<4,>=3.1.0->jupyter-server>=1.8->nbclassic>=0.4.7->notebook->jupyter->tensorflow-object-detection==0.0.6) (3.4)\n",
            "Requirement already satisfied: sniffio>=1.1 in ./.venv/lib/python3.7/site-packages (from anyio<4,>=3.1.0->jupyter-server>=1.8->nbclassic>=0.4.7->notebook->jupyter->tensorflow-object-detection==0.0.6) (1.3.0)\n",
            "Requirement already satisfied: pycparser in ./.venv/lib/python3.7/site-packages (from cffi>=1.0.1->argon2-cffi-bindings->argon2-cffi->notebook->jupyter->tensorflow-object-detection==0.0.6) (2.21)\n",
            "Note: you may need to restart the kernel to use updated packages.\n"
          ]
        }
      ],
      "source": [
        "#Generate TFRecords\n",
        "%pip install tensorflow-cpu==1.15.0 tensorflow-object-detection==0.0.6"
      ]
    },
    {
      "cell_type": "code",
      "execution_count": null,
      "metadata": {
        "id": "idlpxCYm1ENA"
      },
      "outputs": [],
      "source": [
        "!python3 xml_to_csv.py"
      ]
    },
    {
      "cell_type": "code",
      "execution_count": null,
      "metadata": {
        "id": "BhJVoCwJ1No6"
      },
      "outputs": [],
      "source": [
        "!python3 generate_tfrecord.py --csv_input='CAPTCHA_images/train_labels.csv' --image_dir='CAPTCHA_images/train' --output_path='CAPTCHA_images/train.record' && \\\n",
        "python3 generate_tfrecord.py --csv_input='CAPTCHA_images/test_labels.csv' --image_dir='CAPTCHA_images/test' --output_path='CAPTCHA_images/test.record'"
      ]
    },
    {
      "cell_type": "code",
      "execution_count": null,
      "metadata": {
        "id": "K5THjNsm85Q3"
      },
      "outputs": [],
      "source": [
        "# Training with GPU\n",
        "!pip install tensorflow-gpu==1.14 tensorflow-object-detection numpy==1.19.5"
      ]
    },
    {
      "cell_type": "code",
      "execution_count": null,
      "metadata": {
        "id": "_WtsNhv9dYH8"
      },
      "outputs": [],
      "source": [
        "!python3 train.py --logtostderr --train_dir=CAPTCHA_training_dir/ --pipeline_config_path=faster_rcnn_inception_v2_coco.config"
      ]
    },
    {
      "cell_type": "code",
      "execution_count": null,
      "metadata": {
        "id": "GVg45-alN_4X"
      },
      "outputs": [],
      "source": [
        "!python3 export_inference_graph.py \\\n",
        "    --input_type image_tensor \\\n",
        "    --pipeline_config_path faster_rcnn_inception_v2_coco.config \\\n",
        "    --trained_checkpoint_prefix '/content/CAPTCHA_training_dir/model.ckpt-29304' \\\n",
        "    --output_directory CAPTCHA_model"
      ]
    },
    {
      "cell_type": "code",
      "execution_count": null,
      "metadata": {
        "colab": {
          "base_uri": "https://localhost:8080/"
        },
        "id": "moLFUq-TgAQz",
        "outputId": "dddb2292-1772-40f9-acb0-f9b47a1b72ee"
      },
      "outputs": [
        {
          "name": "stdout",
          "output_type": "stream",
          "text": [
            "fcwbj\n"
          ]
        }
      ],
      "source": [
        "#Obeject_detection.py\n",
        "\n",
        "# Imports\n",
        "import cv2\n",
        "import numpy as np\n",
        "import os\n",
        "import sys\n",
        "# run on CPU, to run on GPU comment this line or write '0'\n",
        "# os.environ['CUDA_VISIBLE_DEVICES'] = '-1'\n",
        "import tensorflow as tf\n",
        "from distutils.version import StrictVersion\n",
        "from collections import defaultdict\n",
        "\n",
        "# title of our window\n",
        "title = \"CAPTCHA\"\n",
        "\n",
        "# Env setup\n",
        "from object_detection.utils import ops as utils_ops\n",
        "from object_detection.utils import label_map_util\n",
        "from object_detection.utils import visualization_utils as vis_util\n",
        "\n",
        "\n",
        "# Model preparation \n",
        "PATH_TO_FROZEN_GRAPH = '/content/CAPTCHA_inference_graph/frozen_inference_graph.pb'\n",
        "# List of the strings that is used to add correct label for each box.\n",
        "PATH_TO_LABELS = '/content/CAPTCHA_training/labelmap.pbtxt'\n",
        "NUM_CLASSES = 37\n",
        "\n",
        "\n",
        "# Load a (frozen) Tensorflow model into memory.\n",
        "label_map = label_map_util.load_labelmap(PATH_TO_LABELS)\n",
        "categories = label_map_util.convert_label_map_to_categories(label_map, max_num_classes=NUM_CLASSES, use_display_name=True)\n",
        "category_index = label_map_util.create_category_index(categories)\n",
        "\n",
        "detection_graph = tf.Graph()\n",
        "with detection_graph.as_default():\n",
        "    od_graph_def = tf.GraphDef()\n",
        "    with tf.gfile.GFile(PATH_TO_FROZEN_GRAPH, 'rb') as fid:\n",
        "        serialized_graph = fid.read()\n",
        "        od_graph_def.ParseFromString(serialized_graph)\n",
        "        tf.import_graph_def(od_graph_def, name='')\n",
        "\n",
        "\n",
        "# Detection\n",
        "def Captcha_detection(image, average_distance_error=3):\n",
        "    with detection_graph.as_default():\n",
        "        with tf.Session(graph=detection_graph) as sess:\n",
        "            # Open image\n",
        "            image_np = cv2.imread(image)\n",
        "            # Resize image if needed\n",
        "            # image_np = cv2.resize(image_np, (0,0), fx=3, fy=3) \n",
        "            # To get real color we do this:\n",
        "            image_np = cv2.cvtColor(image_np, cv2.COLOR_BGR2RGB)\n",
        "            # Expand dimensions since the model expects images to have shape: [1, None, None, 3]\n",
        "            image_np_expanded = np.expand_dims(image_np, axis=0)\n",
        "            # Actual detection.\n",
        "            image_tensor = detection_graph.get_tensor_by_name('image_tensor:0')\n",
        "            boxes = detection_graph.get_tensor_by_name('detection_boxes:0')\n",
        "            scores = detection_graph.get_tensor_by_name('detection_scores:0')\n",
        "            classes = detection_graph.get_tensor_by_name('detection_classes:0')\n",
        "            num_detections = detection_graph.get_tensor_by_name('num_detections:0')\n",
        "            # Visualization of the results of a detection.\n",
        "            (boxes, scores, classes, num_detections) = sess.run(\n",
        "              [boxes, scores, classes, num_detections],\n",
        "              feed_dict={image_tensor: image_np_expanded})\n",
        "            vis_util.visualize_boxes_and_labels_on_image_array(\n",
        "              image_np,\n",
        "              np.squeeze(boxes),\n",
        "              np.squeeze(classes).astype(np.int32),\n",
        "              np.squeeze(scores),\n",
        "              category_index,\n",
        "              use_normalized_coordinates=True,\n",
        "              line_thickness=2)\n",
        "            # Show image with detection\n",
        "            #cv2.imshow(title, cv2.cvtColor(image_np, cv2.COLOR_BGR2RGB))\n",
        "            # Save image with detection\n",
        "            cv2.imwrite(\"Predicted_captcha.jpg\", cv2.cvtColor(image_np, cv2.COLOR_BGR2RGB))\n",
        "\n",
        "\n",
        "            # Bellow we do filtering stuff\n",
        "            captcha_array = []\n",
        "            # loop our all detection boxes\n",
        "            for i,b in enumerate(boxes[0]):\n",
        "                for Symbol in range(37):\n",
        "                    if classes[0][i] == Symbol: # check if detected class equal to our symbols\n",
        "                        if scores[0][i] >= 0.65: # do something only if detected score more han 0.65\n",
        "                                            # x-left        # x-right\n",
        "                            mid_x = (boxes[0][i][1]+boxes[0][i][3])/2 # find x coordinates center of letter\n",
        "                            # to captcha_array array save detected Symbol, middle X coordinates and detection percentage\n",
        "                            captcha_array.append([category_index[Symbol].get('name'), mid_x, scores[0][i]])\n",
        "\n",
        "            # rearange array acording to X coordinates datected\n",
        "            for number in range(20):\n",
        "                for captcha_number in range(len(captcha_array)-1):\n",
        "                    if captcha_array[captcha_number][1] > captcha_array[captcha_number+1][1]:\n",
        "                        temporary_captcha = captcha_array[captcha_number]\n",
        "                        captcha_array[captcha_number] = captcha_array[captcha_number+1]\n",
        "                        captcha_array[captcha_number+1] = temporary_captcha\n",
        "\n",
        "\n",
        "            # Find average distance between detected symbols\n",
        "            average = 0\n",
        "            captcha_len = len(captcha_array)-1\n",
        "            while captcha_len > 0:\n",
        "                average += captcha_array[captcha_len][1]- captcha_array[captcha_len-1][1]\n",
        "                captcha_len -= 1\n",
        "            # Increase average distance error\n",
        "            average = average/(len(captcha_array)+average_distance_error)\n",
        "\n",
        "            \n",
        "            captcha_array_filtered = list(captcha_array)\n",
        "            captcha_len = len(captcha_array)-1\n",
        "            while captcha_len > 0:\n",
        "                # if average distance is larger than error distance\n",
        "                if captcha_array[captcha_len][1]- captcha_array[captcha_len-1][1] < average:\n",
        "                    # check which symbol has higher detection percentage\n",
        "                    if captcha_array[captcha_len][2] > captcha_array[captcha_len-1][2]:\n",
        "                        del captcha_array_filtered[captcha_len-1]\n",
        "                    else:\n",
        "                        del captcha_array_filtered[captcha_len]\n",
        "                captcha_len -= 1\n",
        "\n",
        "            # Get final string from filtered CAPTCHA array\n",
        "            captcha_string = \"\"\n",
        "            for captcha_letter in range(len(captcha_array_filtered)):\n",
        "                captcha_string += captcha_array_filtered[captcha_letter][0]\n",
        "                \n",
        "            return captcha_string\n",
        "\n",
        "print(Captcha_detection(\"/content/CAPTCHA_images/train/fcwbj.png\"))"
      ]
    },
    {
      "cell_type": "code",
      "execution_count": null,
      "metadata": {
        "id": "OPJnoBdLj5WG"
      },
      "outputs": [],
      "source": [
        "!cp /content/CAPTCHA_inference_graph/frozen_inference_graph.pb /content/drive/MyDrive"
      ]
    },
    {
      "cell_type": "code",
      "execution_count": null,
      "metadata": {
        "colab": {
          "base_uri": "https://localhost:8080/"
        },
        "id": "uLwB-I2CB6DA",
        "outputId": "ce12af3c-3ba9-4906-868b-a94e763fb828"
      },
      "outputs": [
        {
          "name": "stdout",
          "output_type": "stream",
          "text": [
            "[PhysicalDevice(name='/physical_device:CPU:0', device_type='CPU'), PhysicalDevice(name='/physical_device:GPU:0', device_type='GPU')]\n",
            "2.8.0\n"
          ]
        }
      ],
      "source": [
        "import tensorflow as tf   # TensorFlow registers PluggableDevices here.\n",
        "print(tf.config.experimental_list_devices())\n",
        "print(tf.__version__)"
      ]
    }
  ],
  "metadata": {
    "accelerator": "GPU",
    "colab": {
      "collapsed_sections": [],
      "name": "[Complete]Captcha Solver",
      "provenance": []
    },
    "kernelspec": {
      "display_name": "Python 3",
      "name": "python3"
    },
    "language_info": {
      "codemirror_mode": {
        "name": "ipython",
        "version": 3
      },
      "file_extension": ".py",
      "mimetype": "text/x-python",
      "name": "python",
      "nbconvert_exporter": "python",
      "pygments_lexer": "ipython3",
      "version": "3.7.16"
    }
  },
  "nbformat": 4,
  "nbformat_minor": 0
}
